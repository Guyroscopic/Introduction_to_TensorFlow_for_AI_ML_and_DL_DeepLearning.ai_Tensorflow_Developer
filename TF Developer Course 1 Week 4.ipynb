{
 "cells": [
  {
   "cell_type": "markdown",
   "metadata": {
    "colab_type": "text",
    "id": "UncprnB0ymAE"
   },
   "source": [
    "Below is code with a link to a happy or sad dataset which contains 80 images, 40 happy and 40 sad. \n",
    "Create a convolutional neural network that trains to 100% accuracy on these images,  which cancels training upon hitting training accuracy of >.999\n",
    "\n",
    "Hint -- it will work best with 3 convolutional layers."
   ]
  },
  {
   "cell_type": "code",
   "execution_count": 3,
   "metadata": {},
   "outputs": [],
   "source": [
    "import tensorflow as tf\n",
    "import os\n",
    "import zipfile\n",
    "from os import path, getcwd, chdir\n",
    "\n",
    "# DO NOT CHANGE THE LINE BELOW. If you are developing in a local\n",
    "# environment, then grab happy-or-sad.zip from the Coursera Jupyter Notebook\n",
    "# and place it inside a local folder and edit the path to that location\n",
    "path = f\"{getcwd()}/../tmp2/happy-or-sad.zip\"\n",
    "\n",
    "zip_ref = zipfile.ZipFile(path, 'r')\n",
    "zip_ref.extractall(\"/tmp/h-or-s\")\n",
    "zip_ref.close()"
   ]
  },
  {
   "cell_type": "code",
   "execution_count": 4,
   "metadata": {},
   "outputs": [],
   "source": [
    "# GRADED FUNCTION: train_happy_sad_model\n",
    "def train_happy_sad_model():\n",
    "    # Please write your code only where you are indicated.\n",
    "    # please do not remove # model fitting inline comments.\n",
    "\n",
    "    DESIRED_ACCURACY = 0.999\n",
    "\n",
    "    class myCallback(tf.keras.callbacks.Callback):\n",
    "         # Your Code        \n",
    "        def on_epoch_end(self, epoch, logs={}):\n",
    "            if logs.get('acc')>0.999:\n",
    "                self.model.stop_training = True\n",
    "\n",
    "    callbacks = myCallback()\n",
    "    \n",
    "    # This Code Block should Define and Compile the Model. Please assume the images are 150 X 150 in your implementation.\n",
    "    model = tf.keras.models.Sequential([\n",
    "        # Your Code Here\n",
    "        tf.keras.layers.Conv2D(32, kernel_size=(4, 4), input_shape=(150, 150, 3), activation='relu'),\n",
    "        tf.keras.layers.MaxPooling2D(2, 2),\n",
    "        tf.keras.layers.Conv2D(16, kernel_size=(2, 2), activation='relu'),\n",
    "        tf.keras.layers.MaxPooling2D(2, 2),\n",
    "        tf.keras.layers.Conv2D(8, kernel_size=(2, 2), activation='relu'),\n",
    "        tf.keras.layers.MaxPooling2D(2, 2),\n",
    "        tf.keras.layers.Flatten(),\n",
    "        tf.keras.layers.Dense(128, activation='relu'),\n",
    "        tf.keras.layers.Dense(10, activation='softmax')\n",
    "    ])\n",
    "\n",
    "    from tensorflow.keras.optimizers import RMSprop\n",
    "\n",
    "    model.compile(optimizer=RMSprop(lr=0.0001), loss='sparse_categorical_crossentropy', metrics=['accuracy'])\n",
    "        \n",
    "\n",
    "    # This code block should create an instance of an ImageDataGenerator called train_datagen \n",
    "    # And a train_generator by calling train_datagen.flow_from_directory\n",
    "\n",
    "    from tensorflow.keras.preprocessing.image import ImageDataGenerator\n",
    "\n",
    "    train_datagen = ImageDataGenerator(rescale=1/255)\n",
    "\n",
    "    # Please use a target_size of 150 X 150.\n",
    "    train_generator = train_datagen.flow_from_directory(\"/tmp/h-or-s\",\n",
    "                                            target_size=(150, 150),\n",
    "                                            class_mode='binary'\n",
    "                        )\n",
    "    # Expected output: 'Found 80 images belonging to 2 classes'\n",
    "\n",
    "    # This code block should call model.fit_generator and train for\n",
    "    # a number of epochs.\n",
    "    # model fitting\n",
    "    history = model.fit_generator(train_generator,  epochs=150, callbacks=[callbacks]\n",
    "                      )\n",
    "    # model fitting\n",
    "    return history.history['acc'][-1]"
   ]
  },
  {
   "cell_type": "code",
   "execution_count": 5,
   "metadata": {},
   "outputs": [
    {
     "name": "stderr",
     "output_type": "stream",
     "text": [
      "WARNING: Logging before flag parsing goes to stderr.\n",
      "W0902 14:40:51.922841 140666308552512 deprecation.py:506] From /usr/local/lib/python3.6/dist-packages/tensorflow/python/ops/init_ops.py:1251: calling VarianceScaling.__init__ (from tensorflow.python.ops.init_ops) with dtype is deprecated and will be removed in a future version.\n",
      "Instructions for updating:\n",
      "Call initializer instance with the dtype argument instead of passing it to the constructor\n"
     ]
    },
    {
     "name": "stdout",
     "output_type": "stream",
     "text": [
      "Found 80 images belonging to 2 classes.\n",
      "Epoch 1/150\n",
      "3/3 [==============================] - 5s 2s/step - loss: 2.1972 - acc: 0.2250 \n",
      "Epoch 2/150\n",
      "3/3 [==============================] - 0s 134ms/step - loss: 1.6895 - acc: 0.5000\n",
      "Epoch 3/150\n",
      "3/3 [==============================] - 0s 138ms/step - loss: 1.3650 - acc: 0.5000\n",
      "Epoch 4/150\n",
      "3/3 [==============================] - 0s 161ms/step - loss: 1.0834 - acc: 0.5000\n",
      "Epoch 5/150\n",
      "3/3 [==============================] - 0s 135ms/step - loss: 0.9024 - acc: 0.5000\n",
      "Epoch 6/150\n",
      "3/3 [==============================] - 0s 132ms/step - loss: 0.8382 - acc: 0.7375\n",
      "Epoch 7/150\n",
      "3/3 [==============================] - 0s 162ms/step - loss: 0.7201 - acc: 0.9375\n",
      "Epoch 8/150\n",
      "3/3 [==============================] - 0s 134ms/step - loss: 0.6764 - acc: 0.8000\n",
      "Epoch 9/150\n",
      "3/3 [==============================] - 0s 136ms/step - loss: 0.6300 - acc: 0.9625\n",
      "Epoch 10/150\n",
      "3/3 [==============================] - 0s 133ms/step - loss: 0.6666 - acc: 0.5375\n",
      "Epoch 11/150\n",
      "3/3 [==============================] - 0s 137ms/step - loss: 0.5917 - acc: 0.8250\n",
      "Epoch 12/150\n",
      "3/3 [==============================] - 0s 129ms/step - loss: 0.5478 - acc: 0.9125\n",
      "Epoch 13/150\n",
      "3/3 [==============================] - 0s 131ms/step - loss: 0.5245 - acc: 0.8625\n",
      "Epoch 14/150\n",
      "3/3 [==============================] - 0s 135ms/step - loss: 0.5264 - acc: 0.6375\n",
      "Epoch 15/150\n",
      "3/3 [==============================] - 0s 158ms/step - loss: 0.4954 - acc: 0.9875\n",
      "Epoch 16/150\n",
      "3/3 [==============================] - 0s 135ms/step - loss: 0.4902 - acc: 0.8000\n",
      "Epoch 17/150\n",
      "3/3 [==============================] - 0s 136ms/step - loss: 0.4599 - acc: 0.8875\n",
      "Epoch 18/150\n",
      "3/3 [==============================] - 0s 134ms/step - loss: 0.4354 - acc: 0.9625\n",
      "Epoch 19/150\n",
      "3/3 [==============================] - 0s 135ms/step - loss: 0.4433 - acc: 0.8500\n",
      "Epoch 20/150\n",
      "3/3 [==============================] - 0s 136ms/step - loss: 0.4234 - acc: 0.8875\n",
      "Epoch 21/150\n",
      "3/3 [==============================] - 0s 162ms/step - loss: 0.3957 - acc: 0.9625\n",
      "Epoch 22/150\n",
      "3/3 [==============================] - 0s 138ms/step - loss: 0.3811 - acc: 0.8375\n",
      "Epoch 23/150\n",
      "3/3 [==============================] - 0s 163ms/step - loss: 0.3506 - acc: 0.9875\n",
      "Epoch 24/150\n",
      "3/3 [==============================] - 0s 133ms/step - loss: 0.3527 - acc: 0.8250\n",
      "Epoch 25/150\n",
      "3/3 [==============================] - 0s 138ms/step - loss: 0.3293 - acc: 0.9250\n",
      "Epoch 26/150\n",
      "3/3 [==============================] - 0s 110ms/step - loss: 0.4131 - acc: 0.8875\n",
      "Epoch 27/150\n",
      "3/3 [==============================] - 1s 191ms/step - loss: 0.2981 - acc: 0.9875\n",
      "Epoch 28/150\n",
      "3/3 [==============================] - 0s 133ms/step - loss: 0.2919 - acc: 0.9875\n",
      "Epoch 29/150\n",
      "3/3 [==============================] - 0s 140ms/step - loss: 0.3554 - acc: 0.8750\n",
      "Epoch 30/150\n",
      "3/3 [==============================] - 0s 158ms/step - loss: 0.2815 - acc: 0.9625\n",
      "Epoch 31/150\n",
      "3/3 [==============================] - 0s 135ms/step - loss: 0.2716 - acc: 0.9750\n",
      "Epoch 32/150\n",
      "3/3 [==============================] - 0s 162ms/step - loss: 0.2628 - acc: 0.9500\n",
      "Epoch 33/150\n",
      "3/3 [==============================] - 0s 137ms/step - loss: 0.2665 - acc: 0.9875\n",
      "Epoch 34/150\n",
      "3/3 [==============================] - 0s 136ms/step - loss: 0.2384 - acc: 0.9750\n",
      "Epoch 35/150\n",
      "3/3 [==============================] - 0s 159ms/step - loss: 0.2226 - acc: 0.9750\n",
      "Epoch 36/150\n",
      "3/3 [==============================] - 0s 137ms/step - loss: 0.2472 - acc: 0.9125\n",
      "Epoch 37/150\n",
      "3/3 [==============================] - 0s 132ms/step - loss: 0.2423 - acc: 0.9625\n",
      "Epoch 38/150\n",
      "3/3 [==============================] - 0s 161ms/step - loss: 0.2039 - acc: 0.9500\n",
      "Epoch 39/150\n",
      "3/3 [==============================] - 0s 134ms/step - loss: 0.1993 - acc: 0.9750\n",
      "Epoch 40/150\n",
      "3/3 [==============================] - 0s 164ms/step - loss: 0.1807 - acc: 0.9750\n",
      "Epoch 41/150\n",
      "3/3 [==============================] - 0s 106ms/step - loss: 0.2073 - acc: 0.9625\n",
      "Epoch 42/150\n",
      "3/3 [==============================] - 0s 161ms/step - loss: 0.1775 - acc: 0.9875\n",
      "Epoch 43/150\n",
      "3/3 [==============================] - 0s 134ms/step - loss: 0.1670 - acc: 0.9750\n",
      "Epoch 44/150\n",
      "3/3 [==============================] - 0s 163ms/step - loss: 0.1990 - acc: 0.9625\n",
      "Epoch 45/150\n",
      "3/3 [==============================] - 0s 136ms/step - loss: 0.1795 - acc: 0.9625\n",
      "Epoch 46/150\n",
      "3/3 [==============================] - 0s 162ms/step - loss: 0.1856 - acc: 0.9250\n",
      "Epoch 47/150\n",
      "3/3 [==============================] - 0s 137ms/step - loss: 0.1608 - acc: 0.9625\n",
      "Epoch 48/150\n",
      "3/3 [==============================] - 0s 133ms/step - loss: 0.1500 - acc: 0.9750\n",
      "Epoch 49/150\n",
      "3/3 [==============================] - 0s 162ms/step - loss: 0.1975 - acc: 0.9375\n",
      "Epoch 50/150\n",
      "3/3 [==============================] - 0s 135ms/step - loss: 0.1738 - acc: 0.9500\n",
      "Epoch 51/150\n",
      "3/3 [==============================] - 0s 162ms/step - loss: 0.1564 - acc: 0.9500\n",
      "Epoch 52/150\n",
      "3/3 [==============================] - 0s 135ms/step - loss: 0.1371 - acc: 0.9500\n",
      "Epoch 53/150\n",
      "3/3 [==============================] - 0s 139ms/step - loss: 0.1569 - acc: 0.9500\n",
      "Epoch 54/150\n",
      "3/3 [==============================] - 0s 156ms/step - loss: 0.1245 - acc: 1.0000\n"
     ]
    },
    {
     "data": {
      "text/plain": [
       "1.0"
      ]
     },
     "execution_count": 5,
     "metadata": {},
     "output_type": "execute_result"
    }
   ],
   "source": [
    "# The Expected output: \"Reached 99.9% accuracy so cancelling training!\"\"\n",
    "train_happy_sad_model()"
   ]
  },
  {
   "cell_type": "code",
   "execution_count": 4,
   "metadata": {},
   "outputs": [],
   "source": [
    "# Now click the 'Submit Assignment' button above.\n",
    "# Once that is complete, please run the following two cells to save your work and close the notebook"
   ]
  },
  {
   "cell_type": "code",
   "execution_count": null,
   "metadata": {},
   "outputs": [],
   "source": [
    "%%javascript\n",
    "<!-- Save the notebook -->\n",
    "IPython.notebook.save_checkpoint();"
   ]
  },
  {
   "cell_type": "code",
   "execution_count": null,
   "metadata": {},
   "outputs": [],
   "source": [
    "%%javascript\n",
    "IPython.notebook.session.delete();\n",
    "window.onbeforeunload = null\n",
    "setTimeout(function() { window.close(); }, 1000);"
   ]
  }
 ],
 "metadata": {
  "coursera": {
   "course_slug": "introduction-tensorflow",
   "graded_item_id": "1kAlw",
   "launcher_item_id": "PNLYD"
  },
  "kernelspec": {
   "display_name": "Python 3",
   "language": "python",
   "name": "python3"
  },
  "language_info": {
   "codemirror_mode": {
    "name": "ipython",
    "version": 3
   },
   "file_extension": ".py",
   "mimetype": "text/x-python",
   "name": "python",
   "nbconvert_exporter": "python",
   "pygments_lexer": "ipython3",
   "version": "3.6.8"
  }
 },
 "nbformat": 4,
 "nbformat_minor": 1
}
